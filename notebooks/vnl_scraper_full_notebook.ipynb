{
  "cells": [
    {
      "cell_type": "markdown",
      "metadata": {},
      "source": [
        "# VNL Scraper Notebook\n",
        "Scrape Volleyball Nations League data (men and women) from Flashscore using Playwright and export to CSV/JSON."
      ]
    },
    {
      "cell_type": "code",
      "execution_count": 9,
      "metadata": {},
      "outputs": [],
      "source": [
        "from playwright.async_api import async_playwright\n",
        "import pandas as pd\n",
        "from datetime import datetime\n",
        "import os\n",
        "import asyncio\n"
      ]
    },
    {
      "cell_type": "code",
      "execution_count": 10,
      "metadata": {},
      "outputs": [],
      "source": [
        "BASE_URLS = {\n",
        "    \"women\": \"https://www.flashscore.com/volleyball/world/nations-league-women-{year}/results/\",\n",
        "    \"men\": \"https://www.flashscore.com/volleyball/world/nations-league-{year}/results/\"\n",
        "}\n",
        "\n",
        "OUTPUT_DIR = \"vnl_results\"\n",
        "os.makedirs(OUTPUT_DIR, exist_ok=True)"
      ]
    },
    {
      "cell_type": "code",
      "execution_count": 11,
      "metadata": {},
      "outputs": [],
      "source": [
        "async def scrape_vnl_season(year, gender):\n",
        "    url = BASE_URLS[gender].format(year=year)\n",
        "    print(f\"Scraping {gender.upper()} {year}...\")\n",
        "\n",
        "    async with async_playwright() as p:\n",
        "        browser = await p.chromium.launch(headless=True)\n",
        "        page = await browser.new_page()\n",
        "        await page.goto(url)\n",
        "\n",
        "        match_elements = await page.query_selector_all(\"div.event__match\")\n",
        "        if not match_elements:\n",
        "            print(f\"⚠️ No matches found for {gender} {year} — skipping.\")\n",
        "            await browser.close()\n",
        "            return []\n",
        "\n",
        "        match_data = []\n",
        "\n",
        "        for match in match_elements:\n",
        "            try:\n",
        "                home_el = await match.query_selector(\".event__participant--home\")\n",
        "                away_el = await match.query_selector(\".event__participant--away\")\n",
        "                home_team = (await home_el.inner_text()).strip() if home_el else \"\"\n",
        "                away_team = (await away_el.inner_text()).strip() if away_el else \"\"\n",
        "\n",
        "                if gender == \"women\":\n",
        "                    home_team = home_team.removesuffix(\" W\")\n",
        "                    away_team = away_team.removesuffix(\" W\")\n",
        "\n",
        "                time_el = await match.query_selector(\".event__time\")\n",
        "                date_text = await time_el.inner_text() if time_el else \"\"\n",
        "                day_month = date_text.split(\" \")[0]\n",
        "                clean_day_month = day_month.strip().replace(\"..\", \".\").rstrip(\".\")\n",
        "                match_date_str = f\"{clean_day_month}.{year}\"\n",
        "                match_date = datetime.strptime(match_date_str, \"%d.%m.%Y\").date()\n",
        "\n",
        "                match_id_attr = await match.get_attribute(\"id\")\n",
        "                match_id = match_id_attr.split(\"_\")[-1]\n",
        "                match_url = f\"https://www.flashscore.com/match/{match_id}/#/match-summary\"\n",
        "\n",
        "                sets_home = []\n",
        "                sets_away = []\n",
        "\n",
        "                async def extract_int(el):\n",
        "                    try:\n",
        "                        return int(float((await el.inner_text()).strip()))\n",
        "                    except:\n",
        "                        return None\n",
        "\n",
        "                for i in range(1, 6):\n",
        "                    home_el = await match.query_selector(f\".event__part--home.event__part--{i}\")\n",
        "                    away_el = await match.query_selector(f\".event__part--away.event__part--{i}\")\n",
        "\n",
        "                    if home_el and away_el:\n",
        "                        h = await extract_int(home_el)\n",
        "                        a = await extract_int(away_el)\n",
        "                        sets_home.append(h)\n",
        "                        sets_away.append(a)\n",
        "                    else:\n",
        "                        break\n",
        "\n",
        "                home_sets_won = sum(1 for h, a in zip(sets_home, sets_away) if h > a)\n",
        "                away_sets_won = sum(1 for h, a in zip(sets_home, sets_away) if a > h)\n",
        "\n",
        "                row = {\n",
        "                    \"season\": year,\n",
        "                    \"gender\": gender,\n",
        "                    \"match_date\": match_date.isoformat(),\n",
        "                    \"home_team\": home_team,\n",
        "                    \"away_team\": away_team,\n",
        "                    \"home_score\": home_sets_won,\n",
        "                    \"away_score\": away_sets_won,\n",
        "                    \"outcome\": 1 if home_sets_won > away_sets_won else 0,\n",
        "                }\n",
        "\n",
        "                for idx in range(5):\n",
        "                    row[f\"set_{idx+1}_home\"] = sets_home[idx] if idx < len(sets_home) else None\n",
        "                    row[f\"set_{idx+1}_away\"] = sets_away[idx] if idx < len(sets_away) else None\n",
        "\n",
        "                row[\"match_url\"] = match_url\n",
        "                match_data.append(row)\n",
        "\n",
        "            except Exception as e:\n",
        "                print(f\"Skipping match due to error: {e}\")\n",
        "                continue\n",
        "\n",
        "        await browser.close()\n",
        "        return match_data\n"
      ]
    },
    {
      "cell_type": "code",
      "execution_count": 12,
      "metadata": {},
      "outputs": [
        {
          "name": "stdout",
          "output_type": "stream",
          "text": [
            "Scraping WOMEN 2023...\n"
          ]
        },
        {
          "ename": "NotImplementedError",
          "evalue": "",
          "output_type": "error",
          "traceback": [
            "\u001b[31m---------------------------------------------------------------------------\u001b[39m",
            "\u001b[31mNotImplementedError\u001b[39m                       Traceback (most recent call last)",
            "\u001b[36mCell\u001b[39m\u001b[36m \u001b[39m\u001b[32mIn[12]\u001b[39m\u001b[32m, line 2\u001b[39m\n\u001b[32m      1\u001b[39m \u001b[38;5;66;03m# Example: scrape a single season and gender for testing\u001b[39;00m\n\u001b[32m----> \u001b[39m\u001b[32m2\u001b[39m results = \u001b[38;5;28;01mawait\u001b[39;00m scrape_vnl_season(\u001b[32m2023\u001b[39m, \u001b[33m\"\u001b[39m\u001b[33mwomen\u001b[39m\u001b[33m\"\u001b[39m)\n\u001b[32m      3\u001b[39m df = pd.DataFrame(results)\n\u001b[32m      4\u001b[39m df.head()\n",
            "\u001b[36mCell\u001b[39m\u001b[36m \u001b[39m\u001b[32mIn[11]\u001b[39m\u001b[32m, line 5\u001b[39m, in \u001b[36mscrape_vnl_season\u001b[39m\u001b[34m(year, gender)\u001b[39m\n\u001b[32m      2\u001b[39m url = BASE_URLS[gender].format(year=year)\n\u001b[32m      3\u001b[39m \u001b[38;5;28mprint\u001b[39m(\u001b[33mf\u001b[39m\u001b[33m\"\u001b[39m\u001b[33mScraping \u001b[39m\u001b[38;5;132;01m{\u001b[39;00mgender.upper()\u001b[38;5;132;01m}\u001b[39;00m\u001b[33m \u001b[39m\u001b[38;5;132;01m{\u001b[39;00myear\u001b[38;5;132;01m}\u001b[39;00m\u001b[33m...\u001b[39m\u001b[33m\"\u001b[39m)\n\u001b[32m----> \u001b[39m\u001b[32m5\u001b[39m \u001b[38;5;28;01masync\u001b[39;00m \u001b[38;5;28;01mwith\u001b[39;00m async_playwright() \u001b[38;5;28;01mas\u001b[39;00m p:\n\u001b[32m      6\u001b[39m     browser = \u001b[38;5;28;01mawait\u001b[39;00m p.chromium.launch(headless=\u001b[38;5;28;01mTrue\u001b[39;00m)\n\u001b[32m      7\u001b[39m     page = \u001b[38;5;28;01mawait\u001b[39;00m browser.new_page()\n",
            "\u001b[36mFile \u001b[39m\u001b[32mc:\\JCode\\Vnl\\ScrapData\\.venv\\Lib\\site-packages\\playwright\\async_api\\_context_manager.py:46\u001b[39m, in \u001b[36mPlaywrightContextManager.__aenter__\u001b[39m\u001b[34m(self)\u001b[39m\n\u001b[32m     44\u001b[39m \u001b[38;5;28;01mif\u001b[39;00m \u001b[38;5;129;01mnot\u001b[39;00m playwright_future.done():\n\u001b[32m     45\u001b[39m     playwright_future.cancel()\n\u001b[32m---> \u001b[39m\u001b[32m46\u001b[39m playwright = AsyncPlaywright(\u001b[38;5;28;43mnext\u001b[39;49m\u001b[43m(\u001b[49m\u001b[38;5;28;43miter\u001b[39;49m\u001b[43m(\u001b[49m\u001b[43mdone\u001b[49m\u001b[43m)\u001b[49m\u001b[43m)\u001b[49m\u001b[43m.\u001b[49m\u001b[43mresult\u001b[49m\u001b[43m(\u001b[49m\u001b[43m)\u001b[49m)\n\u001b[32m     47\u001b[39m playwright.stop = \u001b[38;5;28mself\u001b[39m.\u001b[34m__aexit__\u001b[39m  \u001b[38;5;66;03m# type: ignore\u001b[39;00m\n\u001b[32m     48\u001b[39m \u001b[38;5;28;01mreturn\u001b[39;00m playwright\n",
            "\u001b[36mFile \u001b[39m\u001b[32mc:\\JCode\\Vnl\\ScrapData\\.venv\\Lib\\site-packages\\playwright\\_impl\\_transport.py:120\u001b[39m, in \u001b[36mPipeTransport.connect\u001b[39m\u001b[34m(self)\u001b[39m\n\u001b[32m    117\u001b[39m         startupinfo.wShowWindow = subprocess.SW_HIDE\n\u001b[32m    119\u001b[39m     executable_path, entrypoint_path = compute_driver_executable()\n\u001b[32m--> \u001b[39m\u001b[32m120\u001b[39m     \u001b[38;5;28mself\u001b[39m._proc = \u001b[38;5;28;01mawait\u001b[39;00m asyncio.create_subprocess_exec(\n\u001b[32m    121\u001b[39m         executable_path,\n\u001b[32m    122\u001b[39m         entrypoint_path,\n\u001b[32m    123\u001b[39m         \u001b[33m\"\u001b[39m\u001b[33mrun-driver\u001b[39m\u001b[33m\"\u001b[39m,\n\u001b[32m    124\u001b[39m         stdin=asyncio.subprocess.PIPE,\n\u001b[32m    125\u001b[39m         stdout=asyncio.subprocess.PIPE,\n\u001b[32m    126\u001b[39m         stderr=_get_stderr_fileno(),\n\u001b[32m    127\u001b[39m         limit=\u001b[32m32768\u001b[39m,\n\u001b[32m    128\u001b[39m         env=env,\n\u001b[32m    129\u001b[39m         startupinfo=startupinfo,\n\u001b[32m    130\u001b[39m     )\n\u001b[32m    131\u001b[39m \u001b[38;5;28;01mexcept\u001b[39;00m \u001b[38;5;167;01mException\u001b[39;00m \u001b[38;5;28;01mas\u001b[39;00m exc:\n\u001b[32m    132\u001b[39m     \u001b[38;5;28mself\u001b[39m.on_error_future.set_exception(exc)\n",
            "\u001b[36mFile \u001b[39m\u001b[32m~\\AppData\\Local\\Programs\\Python\\Python313\\Lib\\asyncio\\subprocess.py:224\u001b[39m, in \u001b[36mcreate_subprocess_exec\u001b[39m\u001b[34m(program, stdin, stdout, stderr, limit, *args, **kwds)\u001b[39m\n\u001b[32m    221\u001b[39m loop = events.get_running_loop()\n\u001b[32m    222\u001b[39m protocol_factory = \u001b[38;5;28;01mlambda\u001b[39;00m: SubprocessStreamProtocol(limit=limit,\n\u001b[32m    223\u001b[39m                                                     loop=loop)\n\u001b[32m--> \u001b[39m\u001b[32m224\u001b[39m transport, protocol = \u001b[38;5;28;01mawait\u001b[39;00m loop.subprocess_exec(\n\u001b[32m    225\u001b[39m     protocol_factory,\n\u001b[32m    226\u001b[39m     program, *args,\n\u001b[32m    227\u001b[39m     stdin=stdin, stdout=stdout,\n\u001b[32m    228\u001b[39m     stderr=stderr, **kwds)\n\u001b[32m    229\u001b[39m \u001b[38;5;28;01mreturn\u001b[39;00m Process(transport, protocol, loop)\n",
            "\u001b[36mFile \u001b[39m\u001b[32m~\\AppData\\Local\\Programs\\Python\\Python313\\Lib\\asyncio\\base_events.py:1794\u001b[39m, in \u001b[36mBaseEventLoop.subprocess_exec\u001b[39m\u001b[34m(self, protocol_factory, program, stdin, stdout, stderr, universal_newlines, shell, bufsize, encoding, errors, text, *args, **kwargs)\u001b[39m\n\u001b[32m   1792\u001b[39m     debug_log = \u001b[33mf\u001b[39m\u001b[33m'\u001b[39m\u001b[33mexecute program \u001b[39m\u001b[38;5;132;01m{\u001b[39;00mprogram\u001b[38;5;132;01m!r}\u001b[39;00m\u001b[33m'\u001b[39m\n\u001b[32m   1793\u001b[39m     \u001b[38;5;28mself\u001b[39m._log_subprocess(debug_log, stdin, stdout, stderr)\n\u001b[32m-> \u001b[39m\u001b[32m1794\u001b[39m transport = \u001b[38;5;28;01mawait\u001b[39;00m \u001b[38;5;28mself\u001b[39m._make_subprocess_transport(\n\u001b[32m   1795\u001b[39m     protocol, popen_args, \u001b[38;5;28;01mFalse\u001b[39;00m, stdin, stdout, stderr,\n\u001b[32m   1796\u001b[39m     bufsize, **kwargs)\n\u001b[32m   1797\u001b[39m \u001b[38;5;28;01mif\u001b[39;00m \u001b[38;5;28mself\u001b[39m._debug \u001b[38;5;129;01mand\u001b[39;00m debug_log \u001b[38;5;129;01mis\u001b[39;00m \u001b[38;5;129;01mnot\u001b[39;00m \u001b[38;5;28;01mNone\u001b[39;00m:\n\u001b[32m   1798\u001b[39m     logger.info(\u001b[33m'\u001b[39m\u001b[38;5;132;01m%s\u001b[39;00m\u001b[33m: \u001b[39m\u001b[38;5;132;01m%r\u001b[39;00m\u001b[33m'\u001b[39m, debug_log, transport)\n",
            "\u001b[36mFile \u001b[39m\u001b[32m~\\AppData\\Local\\Programs\\Python\\Python313\\Lib\\asyncio\\base_events.py:539\u001b[39m, in \u001b[36mBaseEventLoop._make_subprocess_transport\u001b[39m\u001b[34m(self, protocol, args, shell, stdin, stdout, stderr, bufsize, extra, **kwargs)\u001b[39m\n\u001b[32m    535\u001b[39m \u001b[38;5;28;01masync\u001b[39;00m \u001b[38;5;28;01mdef\u001b[39;00m\u001b[38;5;250m \u001b[39m\u001b[34m_make_subprocess_transport\u001b[39m(\u001b[38;5;28mself\u001b[39m, protocol, args, shell,\n\u001b[32m    536\u001b[39m                                      stdin, stdout, stderr, bufsize,\n\u001b[32m    537\u001b[39m                                      extra=\u001b[38;5;28;01mNone\u001b[39;00m, **kwargs):\n\u001b[32m    538\u001b[39m \u001b[38;5;250m    \u001b[39m\u001b[33;03m\"\"\"Create subprocess transport.\"\"\"\u001b[39;00m\n\u001b[32m--> \u001b[39m\u001b[32m539\u001b[39m     \u001b[38;5;28;01mraise\u001b[39;00m \u001b[38;5;167;01mNotImplementedError\u001b[39;00m\n",
            "\u001b[31mNotImplementedError\u001b[39m: "
          ]
        }
      ],
      "source": [
        "# Example: scrape a single season and gender for testing\n",
        "results = await scrape_vnl_season(2023, \"women\")\n",
        "df = pd.DataFrame(results)\n",
        "df.head()"
      ]
    }
  ],
  "metadata": {
    "kernelspec": {
      "display_name": ".venv",
      "language": "python",
      "name": "python3"
    },
    "language_info": {
      "codemirror_mode": {
        "name": "ipython",
        "version": 3
      },
      "file_extension": ".py",
      "mimetype": "text/x-python",
      "name": "python",
      "nbconvert_exporter": "python",
      "pygments_lexer": "ipython3",
      "version": "3.13.5"
    }
  },
  "nbformat": 4,
  "nbformat_minor": 5
}
